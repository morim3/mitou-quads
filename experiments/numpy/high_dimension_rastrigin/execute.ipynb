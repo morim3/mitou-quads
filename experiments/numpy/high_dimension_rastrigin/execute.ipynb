{
 "cells": [
  {
   "cell_type": "code",
   "execution_count": 15,
   "id": "f55dc364",
   "metadata": {},
   "outputs": [
    {
     "name": "stdout",
     "output_type": "stream",
     "text": [
      "The autoreload extension is already loaded. To reload it, use:\n",
      "  %reload_ext autoreload\n"
     ]
    }
   ],
   "source": [
    "import sys\n",
    "sys.path.append(\"../../../\")\n",
    "%load_ext autoreload\n",
    "%autoreload 2"
   ]
  },
  {
   "cell_type": "code",
   "execution_count": 21,
   "id": "e2825b50",
   "metadata": {},
   "outputs": [],
   "source": [
    "import matplotlib.pyplot as plt\n",
    "import numpy as np\n",
    "from tqdm import tqdm\n",
    "from models.amp_sim import quads, grover_adaptive\n",
    "from models.classical import cmaes\n",
    "from models.parameters import QuadsParam, QuadsHyperParam, CMAParam, CMAHyperParam\n",
    "from utils.objective_functions import get_rastrigin\n",
    "import random\n",
    "import joblib\n",
    "\n",
    "import pickle\n",
    "\n",
    "import time, datetime\n",
    "today = datetime.datetime.fromtimestamp(time.time())\n",
    "executed_time = today.strftime('%Y%m%d%H%M%S')\n",
    "random.seed(42)\n",
    "np.random.seed(seed=42)"
   ]
  },
  {
   "cell_type": "code",
   "execution_count": 22,
   "id": "e75938a8",
   "metadata": {},
   "outputs": [],
   "source": [
    "\n",
    "trial_num = 100\n",
    "\n",
    "common_config = {\n",
    "    \"sampler_type\": \"classical\",\n",
    "    \"iter_num\": 100,\n",
    "    \"terminate_step_size\": 0.001,\n",
    "    \"terminate_eps\": 0.01,\n",
    "    \"quantile\": 0.3,\n",
    "    \"smoothing_th\": 0.5,\n",
    "    \"eval_limit_one_sample\": 100000000,\n",
    "    \"square_term\": 1\n",
    "}\n",
    "\n",
    "def get_sample_size(dim):\n",
    "    return int(4+np.log(dim)*3)"
   ]
  },
  {
   "cell_type": "markdown",
   "id": "5bca6884",
   "metadata": {},
   "source": [
    "Quads"
   ]
  },
  {
   "cell_type": "code",
   "execution_count": null,
   "id": "a14c7220",
   "metadata": {
    "scrolled": true
   },
   "outputs": [
    {
     "name": "stderr",
     "output_type": "stream",
     "text": [
      "[Parallel(n_jobs=10)]: Using backend LokyBackend with 10 concurrent workers.\n",
      "[Parallel(n_jobs=10)]: Batch computation too fast (0.0463s.) Setting batch_size=2.\n",
      "[Parallel(n_jobs=10)]: Done   5 tasks      | elapsed:    0.1s\n",
      "[Parallel(n_jobs=10)]: Done  12 tasks      | elapsed:    0.1s\n",
      "[Parallel(n_jobs=10)]: Batch computation too fast (0.0159s.) Setting batch_size=4.\n",
      "[Parallel(n_jobs=10)]: Done  26 tasks      | elapsed:    0.1s\n",
      "[Parallel(n_jobs=10)]: Done  41 tasks      | elapsed:    0.1s\n",
      "[Parallel(n_jobs=10)]: Done  48 out of 100 | elapsed:    0.1s remaining:    0.1s\n",
      "[Parallel(n_jobs=10)]: Done  70 out of 100 | elapsed:    0.1s remaining:    0.1s\n",
      "[Parallel(n_jobs=10)]: Done  92 out of 100 | elapsed:    0.2s remaining:    0.0s\n",
      "[Parallel(n_jobs=10)]: Done 100 out of 100 | elapsed:    0.2s finished\n",
      "[Parallel(n_jobs=10)]: Using backend LokyBackend with 10 concurrent workers.\n",
      "[Parallel(n_jobs=10)]: Batch computation too fast (0.0139s.) Setting batch_size=2.\n"
     ]
    },
    {
     "name": "stdout",
     "output_type": "stream",
     "text": [
      "save results into outputs/quads_20230205073651_1.pickle\n"
     ]
    },
    {
     "name": "stderr",
     "output_type": "stream",
     "text": [
      "[Parallel(n_jobs=10)]: Done   5 tasks      | elapsed:    0.1s\n",
      "[Parallel(n_jobs=10)]: Done  12 tasks      | elapsed:    0.2s\n",
      "[Parallel(n_jobs=10)]: Done  23 tasks      | elapsed:    0.4s\n",
      "[Parallel(n_jobs=10)]: Done  40 tasks      | elapsed:    0.9s\n",
      "[Parallel(n_jobs=10)]: Done  62 tasks      | elapsed:    1.4s\n",
      "[Parallel(n_jobs=10)]: Done  70 out of 100 | elapsed:    1.5s remaining:    0.7s\n",
      "[Parallel(n_jobs=10)]: Done  92 out of 100 | elapsed:    1.9s remaining:    0.2s\n",
      "[Parallel(n_jobs=10)]: Done 100 out of 100 | elapsed:    2.1s finished\n",
      "[Parallel(n_jobs=10)]: Using backend LokyBackend with 10 concurrent workers.\n"
     ]
    },
    {
     "name": "stdout",
     "output_type": "stream",
     "text": [
      "save results into outputs/quads_20230205073651_2.pickle\n"
     ]
    },
    {
     "name": "stderr",
     "output_type": "stream",
     "text": [
      "[Parallel(n_jobs=10)]: Done   5 tasks      | elapsed:    1.4s\n",
      "[Parallel(n_jobs=10)]: Done  12 tasks      | elapsed:    1.9s\n",
      "[Parallel(n_jobs=10)]: Done  21 tasks      | elapsed:    4.2s\n",
      "[Parallel(n_jobs=10)]: Done  30 tasks      | elapsed:    6.4s\n",
      "[Parallel(n_jobs=10)]: Done  41 tasks      | elapsed:    8.7s\n",
      "[Parallel(n_jobs=10)]: Done  52 tasks      | elapsed:   12.4s\n",
      "[Parallel(n_jobs=10)]: Done  65 tasks      | elapsed:   17.3s\n",
      "[Parallel(n_jobs=10)]: Done  78 tasks      | elapsed:   21.3s\n",
      "[Parallel(n_jobs=10)]: Done  92 out of 100 | elapsed:   25.7s remaining:    2.2s\n",
      "[Parallel(n_jobs=10)]: Done 100 out of 100 | elapsed:   30.2s finished\n",
      "[Parallel(n_jobs=10)]: Using backend LokyBackend with 10 concurrent workers.\n"
     ]
    },
    {
     "name": "stdout",
     "output_type": "stream",
     "text": [
      "save results into outputs/quads_20230205073651_3.pickle\n"
     ]
    },
    {
     "name": "stderr",
     "output_type": "stream",
     "text": [
      "[Parallel(n_jobs=10)]: Done   5 tasks      | elapsed:  1.0min\n",
      "[Parallel(n_jobs=10)]: Done  12 tasks      | elapsed:  1.9min\n",
      "[Parallel(n_jobs=10)]: Done  21 tasks      | elapsed:  2.9min\n",
      "[Parallel(n_jobs=10)]: Done  30 tasks      | elapsed:  3.4min\n",
      "[Parallel(n_jobs=10)]: Done  41 tasks      | elapsed:  4.8min\n",
      "[Parallel(n_jobs=10)]: Done  52 tasks      | elapsed:  5.6min\n",
      "[Parallel(n_jobs=10)]: Done  65 tasks      | elapsed:  7.3min\n",
      "[Parallel(n_jobs=10)]: Done  78 tasks      | elapsed:  8.8min\n",
      "[Parallel(n_jobs=10)]: Done  92 out of 100 | elapsed:  9.7min remaining:   50.5s\n",
      "[Parallel(n_jobs=10)]: Done 100 out of 100 | elapsed: 10.3min finished\n",
      "[Parallel(n_jobs=10)]: Using backend LokyBackend with 10 concurrent workers.\n"
     ]
    },
    {
     "name": "stdout",
     "output_type": "stream",
     "text": [
      "save results into outputs/quads_20230205073651_4.pickle\n"
     ]
    },
    {
     "name": "stderr",
     "output_type": "stream",
     "text": [
      "[Parallel(n_jobs=10)]: Done   5 tasks      | elapsed: 10.4min\n",
      "[Parallel(n_jobs=10)]: Done  12 tasks      | elapsed: 21.4min\n",
      "[Parallel(n_jobs=10)]: Done  21 tasks      | elapsed: 29.0min\n"
     ]
    }
   ],
   "source": [
    "\n",
    "for n_dim in range(1, 10):\n",
    "    config = common_config.copy()\n",
    "    target = 0.75 * np.ones(n_dim)\n",
    "    config.update({\n",
    "        \"n_dim\": n_dim,\n",
    "        \"n_samples\": int(get_sample_size(n_dim) / 2) + 1,\n",
    "        \"target\": target\n",
    "    })\n",
    "    \n",
    "    \n",
    "    rastrigin = get_rastrigin(target, square_term=config[\"square_term\"])\n",
    "    \n",
    "    init_mean =  np.ones(n_dim) * 0.25\n",
    "    init_cov = np.identity(n_dim)\n",
    "    init_step_size = 0.3\n",
    "    init_threshold = float(rastrigin(init_mean))\n",
    "                           \n",
    "    quads_param = QuadsParam(\n",
    "        init_threshold, CMAParam(init_mean, init_cov, init_step_size ))\n",
    "\n",
    "\n",
    "    def trial(config):\n",
    "        _, (min_func_hist, eval_hist, dist_target_hist, _) = quads.run_quads(rastrigin, quads_param, config, verbose=False)\n",
    "        return min_func_hist, eval_hist, dist_target_hist\n",
    "\n",
    "    min_func_hists, eval_hists, dist_target_hists = zip(*joblib.Parallel(n_jobs=10, verbose=10)(\n",
    "        [joblib.delayed(trial)(config) for _ in range(trial_num)]))\n",
    "\n",
    "    filename = f\"outputs/quads_{executed_time}_{config['n_dim']}.pickle\"\n",
    "\n",
    "    with open(filename, mode='wb') as f:\n",
    "        pickle.dump({\"eval_hists\": eval_hists, \"min_func_hists\": min_func_hists,\n",
    "                     \"dist_target\": dist_target_hists, \"config\": config}, f)\n",
    "    \n",
    "    print(f\"save results into {filename}\")"
   ]
  },
  {
   "cell_type": "markdown",
   "id": "62c00dbc",
   "metadata": {},
   "source": [
    "CMAES"
   ]
  },
  {
   "cell_type": "code",
   "execution_count": 27,
   "id": "bc6a54bc",
   "metadata": {},
   "outputs": [
    {
     "name": "stdout",
     "output_type": "stream",
     "text": [
      "dim: 1\n"
     ]
    },
    {
     "name": "stderr",
     "output_type": "stream",
     "text": [
      "100%|████████████████████████████████████| 100/100 [00:00<00:00, 713.87it/s]\n"
     ]
    },
    {
     "name": "stdout",
     "output_type": "stream",
     "text": [
      "total_eval_num:  40\n",
      "total_eval_num:  4\n",
      "total_eval_num:  48\n",
      "total_eval_num:  168\n",
      "total_eval_num:  16\n",
      "total_eval_num:  32\n",
      "total_eval_num:  56\n",
      "total_eval_num:  28\n",
      "total_eval_num:  60\n",
      "total_eval_num:  24\n",
      "total_eval_num:  12\n",
      "total_eval_num:  144\n",
      "total_eval_num:  40\n",
      "total_eval_num:  8\n",
      "total_eval_num:  12\n",
      "total_eval_num:  4\n",
      "total_eval_num:  56\n",
      "total_eval_num:  20\n",
      "total_eval_num:  20\n",
      "total_eval_num:  128\n",
      "total_eval_num:  28\n",
      "total_eval_num:  144\n",
      "total_eval_num:  36\n",
      "total_eval_num:  164\n",
      "total_eval_num:  20\n",
      "total_eval_num:  28\n",
      "total_eval_num:  12\n",
      "total_eval_num:  152\n",
      "total_eval_num:  32\n",
      "total_eval_num:  12\n",
      "total_eval_num:  12\n",
      "total_eval_num:  12\n",
      "total_eval_num:  24\n",
      "total_eval_num:  24\n",
      "total_eval_num:  24\n",
      "total_eval_num:  24\n",
      "total_eval_num:  140\n",
      "total_eval_num:  40\n",
      "total_eval_num:  140\n",
      "total_eval_num:  164\n",
      "total_eval_num:  20\n",
      "total_eval_num:  16\n",
      "total_eval_num:  188\n",
      "total_eval_num:  36\n",
      "total_eval_num:  20\n",
      "total_eval_num:  8\n",
      "total_eval_num:  52\n",
      "total_eval_num:  8\n",
      "total_eval_num:  48\n",
      "total_eval_num:  28\n",
      "total_eval_num:  24\n",
      "total_eval_num:  60\n",
      "total_eval_num:  4\n",
      "total_eval_num:  16\n",
      "total_eval_num:  48\n",
      "total_eval_num:  40\n",
      "total_eval_num:  84\n",
      "total_eval_num:  8\n",
      "total_eval_num:  24\n",
      "total_eval_num:  44\n",
      "total_eval_num:  4\n",
      "total_eval_num:  12\n",
      "total_eval_num:  172\n",
      "total_eval_num:  40\n",
      "total_eval_num:  156\n",
      "total_eval_num:  16\n",
      "total_eval_num:  16\n",
      "total_eval_num:  36\n",
      "total_eval_num:  52\n",
      "total_eval_num:  108\n",
      "total_eval_num:  20\n",
      "total_eval_num:  20\n",
      "total_eval_num:  32\n",
      "total_eval_num:  140\n",
      "total_eval_num:  156\n",
      "total_eval_num:  176\n",
      "total_eval_num:  16\n",
      "total_eval_num:  16\n",
      "total_eval_num:  16\n",
      "total_eval_num:  24\n",
      "total_eval_num:  28\n",
      "total_eval_num:  24\n",
      "total_eval_num:  172\n",
      "total_eval_num:  36\n",
      "total_eval_num:  24\n",
      "total_eval_num:  48\n",
      "total_eval_num:  4\n",
      "total_eval_num:  4\n",
      "total_eval_num:  80\n",
      "total_eval_num:  32\n",
      "total_eval_num:  36\n",
      "total_eval_num:  208\n",
      "total_eval_num:  220\n",
      "total_eval_num:  16\n",
      "total_eval_num:  32\n",
      "total_eval_num:  32\n",
      "total_eval_num:  32\n",
      "total_eval_num:  4\n",
      "total_eval_num:  28\n",
      "total_eval_num:  60\n",
      "save results into outputs/cmaes_20230205073651_1.pickle\n",
      "dim: 2\n"
     ]
    },
    {
     "name": "stderr",
     "output_type": "stream",
     "text": [
      "\r",
      "  0%|                                               | 0/100 [00:00<?, ?it/s]"
     ]
    },
    {
     "name": "stdout",
     "output_type": "stream",
     "text": [
      "total_eval_num:  282\n",
      "total_eval_num:  264\n",
      "total_eval_num:  300\n",
      "total_eval_num:  270\n",
      "total_eval_num:  318\n",
      "total_eval_num:  90\n",
      "total_eval_num:  180\n",
      "total_eval_num:  66\n",
      "total_eval_num:  444\n",
      "total_eval_num:  360\n",
      "total_eval_num:  378\n",
      "total_eval_num:  318\n",
      "total_eval_num:  78\n",
      "total_eval_num:  324\n",
      "total_eval_num:  396\n",
      "total_eval_num:  60\n",
      "total_eval_num:  186\n",
      "total_eval_num:  312\n",
      "total_eval_num:  114\n",
      "total_eval_num:  252\n",
      "total_eval_num:  306\n",
      "total_eval_num:  348\n"
     ]
    },
    {
     "name": "stderr",
     "output_type": "stream",
     "text": [
      " 44%|████████████████▎                    | 44/100 [00:00<00:00, 211.62it/s]"
     ]
    },
    {
     "name": "stdout",
     "output_type": "stream",
     "text": [
      "total_eval_num:  108\n",
      "total_eval_num:  306\n",
      "total_eval_num:  312\n",
      "total_eval_num:  282\n",
      "total_eval_num:  312\n",
      "total_eval_num:  120\n",
      "total_eval_num:  306\n",
      "total_eval_num:  336\n",
      "total_eval_num:  294\n",
      "total_eval_num:  348\n",
      "total_eval_num:  240\n",
      "total_eval_num:  336\n",
      "total_eval_num:  300\n",
      "total_eval_num:  318\n",
      "total_eval_num:  438\n",
      "total_eval_num:  270\n",
      "total_eval_num:  306\n",
      "total_eval_num:  294\n",
      "total_eval_num:  366\n",
      "total_eval_num:  336\n",
      "total_eval_num:  330\n",
      "total_eval_num:  216\n",
      "total_eval_num:  318\n"
     ]
    },
    {
     "name": "stderr",
     "output_type": "stream",
     "text": [
      "\r",
      " 66%|████████████████████████▍            | 66/100 [00:00<00:00, 195.45it/s]"
     ]
    },
    {
     "name": "stdout",
     "output_type": "stream",
     "text": [
      "total_eval_num:  120\n",
      "total_eval_num:  234\n",
      "total_eval_num:  384\n",
      "total_eval_num:  282\n",
      "total_eval_num:  330\n",
      "total_eval_num:  360\n",
      "total_eval_num:  348\n",
      "total_eval_num:  300\n",
      "total_eval_num:  282\n",
      "total_eval_num:  90\n",
      "total_eval_num:  390\n",
      "total_eval_num:  348\n",
      "total_eval_num:  144\n",
      "total_eval_num:  306\n",
      "total_eval_num:  270\n",
      "total_eval_num:  342\n",
      "total_eval_num:  462\n",
      "total_eval_num:  468\n",
      "total_eval_num:  318\n",
      "total_eval_num:  420\n",
      "total_eval_num:  270\n",
      "total_eval_num:  294\n",
      "total_eval_num:  342\n"
     ]
    },
    {
     "name": "stderr",
     "output_type": "stream",
     "text": [
      "\r",
      " 88%|████████████████████████████████▌    | 88/100 [00:00<00:00, 202.68it/s]"
     ]
    },
    {
     "name": "stdout",
     "output_type": "stream",
     "text": [
      "total_eval_num:  336\n",
      "total_eval_num:  306\n",
      "total_eval_num:  342\n",
      "total_eval_num:  276\n",
      "total_eval_num:  264\n",
      "total_eval_num:  102\n",
      "total_eval_num:  426\n",
      "total_eval_num:  336\n",
      "total_eval_num:  54\n",
      "total_eval_num:  282\n",
      "total_eval_num:  294\n",
      "total_eval_num:  162\n",
      "total_eval_num:  318\n",
      "total_eval_num:  360\n",
      "total_eval_num:  72\n",
      "total_eval_num:  42\n",
      "total_eval_num:  444\n",
      "total_eval_num:  246\n",
      "total_eval_num:  282\n",
      "total_eval_num:  276\n",
      "total_eval_num:  342\n",
      "total_eval_num:  246\n",
      "total_eval_num:  312\n",
      "total_eval_num:  306\n",
      "total_eval_num:  366\n",
      "total_eval_num:  84\n",
      "total_eval_num:  396\n",
      "total_eval_num:  90\n",
      "total_eval_num:  342\n",
      "total_eval_num:  282\n",
      "total_eval_num:  468\n",
      "total_eval_num:  186\n"
     ]
    },
    {
     "name": "stderr",
     "output_type": "stream",
     "text": [
      "100%|████████████████████████████████████| 100/100 [00:00<00:00, 202.61it/s]\n"
     ]
    },
    {
     "name": "stdout",
     "output_type": "stream",
     "text": [
      "save results into outputs/cmaes_20230205073651_2.pickle\n",
      "dim: 3\n"
     ]
    },
    {
     "name": "stderr",
     "output_type": "stream",
     "text": [
      "\r",
      "  0%|                                               | 0/100 [00:00<?, ?it/s]"
     ]
    },
    {
     "name": "stdout",
     "output_type": "stream",
     "text": [
      "total_eval_num:  364\n",
      "total_eval_num:  350\n",
      "total_eval_num:  483\n",
      "total_eval_num:  406\n",
      "total_eval_num:  364\n",
      "total_eval_num:  511\n",
      "total_eval_num:  385\n",
      "total_eval_num:  427\n",
      "total_eval_num:  427\n"
     ]
    },
    {
     "name": "stderr",
     "output_type": "stream",
     "text": [
      "\r",
      " 13%|████▊                                | 13/100 [00:00<00:00, 124.70it/s]"
     ]
    },
    {
     "name": "stdout",
     "output_type": "stream",
     "text": [
      "total_eval_num:  546\n",
      "total_eval_num:  448\n",
      "total_eval_num:  483\n",
      "total_eval_num:  518\n",
      "total_eval_num:  476\n",
      "total_eval_num:  448\n",
      "total_eval_num:  378\n",
      "total_eval_num:  371\n",
      "total_eval_num:  336\n",
      "total_eval_num:  385\n",
      "total_eval_num:  364\n",
      "total_eval_num:  413\n",
      "total_eval_num:  189\n",
      "total_eval_num:  420\n",
      "total_eval_num:  427\n",
      "total_eval_num:  434\n",
      "total_eval_num:  182\n",
      "total_eval_num:  371\n",
      "total_eval_num:  413\n",
      "total_eval_num:  343\n",
      "total_eval_num:  364\n"
     ]
    },
    {
     "name": "stderr",
     "output_type": "stream",
     "text": [
      "\r",
      " 32%|███████████▊                         | 32/100 [00:00<00:00, 155.22it/s]"
     ]
    },
    {
     "name": "stdout",
     "output_type": "stream",
     "text": [
      "total_eval_num:  434\n",
      "total_eval_num:  427\n",
      "total_eval_num:  378\n",
      "total_eval_num:  350\n",
      "total_eval_num:  252\n",
      "total_eval_num:  434\n",
      "total_eval_num:  413\n",
      "total_eval_num:  427\n",
      "total_eval_num:  623\n",
      "total_eval_num:  392\n",
      "total_eval_num:  378\n",
      "total_eval_num:  427\n",
      "total_eval_num:  469\n",
      "total_eval_num:  420\n",
      "total_eval_num:  371\n",
      "total_eval_num:  413\n",
      "total_eval_num:  364\n",
      "total_eval_num:  490\n"
     ]
    },
    {
     "name": "stderr",
     "output_type": "stream",
     "text": [
      "\r",
      " 48%|█████████████████▊                   | 48/100 [00:00<00:00, 142.04it/s]"
     ]
    },
    {
     "name": "stdout",
     "output_type": "stream",
     "text": [
      "total_eval_num:  441\n",
      "total_eval_num:  441\n",
      "total_eval_num:  469\n",
      "total_eval_num:  406\n",
      "total_eval_num:  364\n",
      "total_eval_num:  427\n",
      "total_eval_num:  448\n",
      "total_eval_num:  392\n",
      "total_eval_num:  427\n",
      "total_eval_num:  518\n",
      "total_eval_num:  413\n",
      "total_eval_num:  399\n",
      "total_eval_num:  119\n",
      "total_eval_num:  364\n"
     ]
    },
    {
     "name": "stderr",
     "output_type": "stream",
     "text": [
      "\r",
      " 65%|████████████████████████             | 65/100 [00:00<00:00, 150.08it/s]"
     ]
    },
    {
     "name": "stdout",
     "output_type": "stream",
     "text": [
      "total_eval_num:  434\n",
      "total_eval_num:  455\n",
      "total_eval_num:  385\n",
      "total_eval_num:  217\n",
      "total_eval_num:  476\n",
      "total_eval_num:  392\n",
      "total_eval_num:  553\n",
      "total_eval_num:  511\n",
      "total_eval_num:  343\n",
      "total_eval_num:  399\n",
      "total_eval_num:  245\n",
      "total_eval_num:  413\n",
      "total_eval_num:  385\n",
      "total_eval_num:  469\n",
      "total_eval_num:  525\n",
      "total_eval_num:  455\n",
      "total_eval_num:  441\n",
      "total_eval_num:  357\n"
     ]
    },
    {
     "name": "stderr",
     "output_type": "stream",
     "text": [
      "\r",
      " 81%|█████████████████████████████▉       | 81/100 [00:00<00:00, 142.37it/s]"
     ]
    },
    {
     "name": "stdout",
     "output_type": "stream",
     "text": [
      "total_eval_num:  476\n",
      "total_eval_num:  357\n",
      "total_eval_num:  189\n",
      "total_eval_num:  413\n",
      "total_eval_num:  210\n",
      "total_eval_num:  483\n",
      "total_eval_num:  700\n",
      "total_eval_num:  343\n",
      "total_eval_num:  427\n",
      "total_eval_num:  658\n",
      "total_eval_num:  462\n",
      "total_eval_num:  392\n",
      "total_eval_num:  399\n",
      "total_eval_num:  420\n"
     ]
    },
    {
     "name": "stderr",
     "output_type": "stream",
     "text": [
      "100%|████████████████████████████████████| 100/100 [00:00<00:00, 145.02it/s]\n"
     ]
    },
    {
     "name": "stdout",
     "output_type": "stream",
     "text": [
      "total_eval_num:  560\n",
      "total_eval_num:  427\n",
      "total_eval_num:  448\n",
      "total_eval_num:  483\n",
      "total_eval_num:  364\n",
      "total_eval_num:  532\n",
      "save results into outputs/cmaes_20230205073651_3.pickle\n",
      "dim: 4\n"
     ]
    },
    {
     "name": "stderr",
     "output_type": "stream",
     "text": [
      "\r",
      "  0%|                                               | 0/100 [00:00<?, ?it/s]"
     ]
    },
    {
     "name": "stdout",
     "output_type": "stream",
     "text": [
      "total_eval_num:  456\n",
      "total_eval_num:  560\n",
      "total_eval_num:  456\n",
      "total_eval_num:  616\n",
      "total_eval_num:  536\n",
      "total_eval_num:  528\n",
      "total_eval_num:  512\n",
      "total_eval_num:  528\n",
      "total_eval_num:  568\n"
     ]
    },
    {
     "name": "stderr",
     "output_type": "stream",
     "text": [
      "\r",
      " 13%|████▊                                | 13/100 [00:00<00:00, 127.81it/s]"
     ]
    },
    {
     "name": "stdout",
     "output_type": "stream",
     "text": [
      "total_eval_num:  448\n",
      "total_eval_num:  496\n",
      "total_eval_num:  520\n",
      "total_eval_num:  488\n",
      "total_eval_num:  600\n",
      "total_eval_num:  552\n",
      "total_eval_num:  528\n",
      "total_eval_num:  616\n",
      "total_eval_num:  520\n",
      "total_eval_num:  512\n",
      "total_eval_num:  472\n",
      "total_eval_num:  520\n",
      "total_eval_num:  512\n",
      "total_eval_num:  504\n",
      "total_eval_num:  512\n",
      "total_eval_num:  536\n"
     ]
    },
    {
     "name": "stderr",
     "output_type": "stream",
     "text": [
      "\r",
      " 29%|██████████▋                          | 29/100 [00:00<00:00, 138.47it/s]"
     ]
    },
    {
     "name": "stdout",
     "output_type": "stream",
     "text": [
      "total_eval_num:  536\n",
      "total_eval_num:  536\n",
      "total_eval_num:  464\n",
      "total_eval_num:  592\n",
      "total_eval_num:  528\n",
      "total_eval_num:  520\n",
      "total_eval_num:  616\n",
      "total_eval_num:  552\n",
      "total_eval_num:  536\n",
      "total_eval_num:  512\n",
      "total_eval_num:  616\n",
      "total_eval_num:  552\n",
      "total_eval_num:  560\n",
      "total_eval_num:  456\n"
     ]
    },
    {
     "name": "stderr",
     "output_type": "stream",
     "text": [
      "\r",
      " 43%|███████████████▉                     | 43/100 [00:00<00:00, 132.88it/s]"
     ]
    },
    {
     "name": "stdout",
     "output_type": "stream",
     "text": [
      "total_eval_num:  568\n",
      "total_eval_num:  496\n",
      "total_eval_num:  496\n",
      "total_eval_num:  552\n",
      "total_eval_num:  472\n",
      "total_eval_num:  544\n",
      "total_eval_num:  456\n",
      "total_eval_num:  536\n",
      "total_eval_num:  464\n",
      "total_eval_num:  544\n",
      "total_eval_num:  568\n",
      "total_eval_num:  496\n",
      "total_eval_num:  608\n",
      "total_eval_num:  472\n",
      "total_eval_num:  608\n"
     ]
    },
    {
     "name": "stderr",
     "output_type": "stream",
     "text": [
      "\r",
      " 58%|█████████████████████▍               | 58/100 [00:00<00:00, 137.68it/s]"
     ]
    },
    {
     "name": "stdout",
     "output_type": "stream",
     "text": [
      "total_eval_num:  464\n",
      "total_eval_num:  552\n",
      "total_eval_num:  704\n",
      "total_eval_num:  528\n",
      "total_eval_num:  736\n",
      "total_eval_num:  520\n",
      "total_eval_num:  520\n",
      "total_eval_num:  472\n",
      "total_eval_num:  680\n",
      "total_eval_num:  464\n",
      "total_eval_num:  520\n",
      "total_eval_num:  496\n",
      "total_eval_num:  472\n",
      "total_eval_num:  448\n",
      "total_eval_num:  520\n"
     ]
    },
    {
     "name": "stderr",
     "output_type": "stream",
     "text": [
      "\r",
      " 72%|██████████████████████████▋          | 72/100 [00:00<00:00, 127.11it/s]"
     ]
    },
    {
     "name": "stdout",
     "output_type": "stream",
     "text": [
      "total_eval_num:  568\n",
      "total_eval_num:  536\n",
      "total_eval_num:  568\n",
      "total_eval_num:  504\n",
      "total_eval_num:  488\n",
      "total_eval_num:  520\n",
      "total_eval_num:  544\n",
      "total_eval_num:  544\n",
      "total_eval_num:  496\n",
      "total_eval_num:  496\n",
      "total_eval_num:  600\n",
      "total_eval_num:  440\n",
      "total_eval_num:  664\n",
      "total_eval_num:  440\n",
      "total_eval_num:  464\n",
      "total_eval_num:  600\n",
      "total_eval_num:  496\n"
     ]
    },
    {
     "name": "stderr",
     "output_type": "stream",
     "text": [
      "\r",
      " 86%|███████████████████████████████▊     | 86/100 [00:00<00:00, 129.74it/s]"
     ]
    },
    {
     "name": "stdout",
     "output_type": "stream",
     "text": [
      "total_eval_num:  512\n",
      "total_eval_num:  520\n",
      "total_eval_num:  536\n",
      "total_eval_num:  552\n",
      "total_eval_num:  680\n",
      "total_eval_num:  592\n",
      "total_eval_num:  488\n",
      "total_eval_num:  624\n",
      "total_eval_num:  648\n",
      "total_eval_num:  536\n",
      "total_eval_num:  560\n",
      "total_eval_num:  552\n",
      "total_eval_num:  584\n",
      "total_eval_num:  568\n"
     ]
    },
    {
     "name": "stderr",
     "output_type": "stream",
     "text": [
      "100%|████████████████████████████████████| 100/100 [00:00<00:00, 132.12it/s]\n"
     ]
    },
    {
     "name": "stdout",
     "output_type": "stream",
     "text": [
      "save results into outputs/cmaes_20230205073651_4.pickle\n",
      "dim: 5\n"
     ]
    },
    {
     "name": "stderr",
     "output_type": "stream",
     "text": [
      "\r",
      "  0%|                                               | 0/100 [00:00<?, ?it/s]"
     ]
    },
    {
     "name": "stdout",
     "output_type": "stream",
     "text": [
      "total_eval_num:  520\n",
      "total_eval_num:  528\n",
      "total_eval_num:  488\n",
      "total_eval_num:  584\n",
      "total_eval_num:  536\n",
      "total_eval_num:  544\n",
      "total_eval_num:  544\n",
      "total_eval_num:  496\n",
      "total_eval_num:  488\n",
      "total_eval_num:  576\n",
      "total_eval_num:  520\n",
      "total_eval_num:  456\n",
      "total_eval_num:  520\n"
     ]
    },
    {
     "name": "stderr",
     "output_type": "stream",
     "text": [
      "\r",
      " 14%|█████▏                               | 14/100 [00:00<00:00, 131.94it/s]"
     ]
    },
    {
     "name": "stdout",
     "output_type": "stream",
     "text": [
      "total_eval_num:  528\n",
      "total_eval_num:  568\n",
      "total_eval_num:  568\n",
      "total_eval_num:  560\n",
      "total_eval_num:  688\n",
      "total_eval_num:  568\n",
      "total_eval_num:  536\n",
      "total_eval_num:  536\n",
      "total_eval_num:  560\n",
      "total_eval_num:  568\n",
      "total_eval_num:  528\n",
      "total_eval_num:  576\n",
      "total_eval_num:  608\n",
      "total_eval_num: "
     ]
    },
    {
     "name": "stderr",
     "output_type": "stream",
     "text": [
      "\r",
      " 28%|██████████▎                          | 28/100 [00:00<00:00, 124.59it/s]"
     ]
    },
    {
     "name": "stdout",
     "output_type": "stream",
     "text": [
      " 592\n",
      "total_eval_num:  520\n",
      "total_eval_num:  632\n",
      "total_eval_num:  536\n",
      "total_eval_num:  520\n",
      "total_eval_num:  528\n",
      "total_eval_num:  512\n",
      "total_eval_num:  544\n",
      "total_eval_num:  624\n",
      "total_eval_num:  520\n",
      "total_eval_num:  616\n",
      "total_eval_num:  536\n",
      "total_eval_num:  584\n",
      "total_eval_num:  488\n"
     ]
    },
    {
     "name": "stderr",
     "output_type": "stream",
     "text": [
      "\r",
      " 42%|███████████████▌                     | 42/100 [00:00<00:00, 126.63it/s]"
     ]
    },
    {
     "name": "stdout",
     "output_type": "stream",
     "text": [
      "total_eval_num:  616\n",
      "total_eval_num:  536\n",
      "total_eval_num:  512\n",
      "total_eval_num:  608\n",
      "total_eval_num:  504\n",
      "total_eval_num:  584\n",
      "total_eval_num:  592\n",
      "total_eval_num:  600\n",
      "total_eval_num:  528\n",
      "total_eval_num:  576\n",
      "total_eval_num: "
     ]
    },
    {
     "name": "stderr",
     "output_type": "stream",
     "text": [
      "\r",
      " 55%|████████████████████▎                | 55/100 [00:00<00:00, 118.70it/s]"
     ]
    },
    {
     "name": "stdout",
     "output_type": "stream",
     "text": [
      " 456\n",
      "total_eval_num:  528\n",
      "total_eval_num:  600\n",
      "total_eval_num:  560\n",
      "total_eval_num:  592\n",
      "total_eval_num:  616\n",
      "total_eval_num:  520\n",
      "total_eval_num:  616\n",
      "total_eval_num:  592\n",
      "total_eval_num:  568\n",
      "total_eval_num:  624\n",
      "total_eval_num:  560\n",
      "total_eval_num:  552\n",
      "total_eval_num:  592\n",
      "total_eval_num:  600\n",
      "total_eval_num: "
     ]
    },
    {
     "name": "stderr",
     "output_type": "stream",
     "text": [
      "\r",
      " 69%|█████████████████████████▌           | 69/100 [00:00<00:00, 124.65it/s]"
     ]
    },
    {
     "name": "stdout",
     "output_type": "stream",
     "text": [
      " 712\n",
      "total_eval_num:  616\n",
      "total_eval_num:  528\n",
      "total_eval_num:  472\n",
      "total_eval_num:  528\n",
      "total_eval_num:  616\n",
      "total_eval_num:  528\n",
      "total_eval_num:  664\n",
      "total_eval_num:  584\n",
      "total_eval_num:  520\n",
      "total_eval_num:  600\n",
      "total_eval_num:  488\n"
     ]
    },
    {
     "name": "stderr",
     "output_type": "stream",
     "text": [
      "\r",
      " 82%|██████████████████████████████▎      | 82/100 [00:00<00:00, 122.03it/s]"
     ]
    },
    {
     "name": "stdout",
     "output_type": "stream",
     "text": [
      "total_eval_num:  592\n",
      "total_eval_num:  536\n",
      "total_eval_num:  560\n",
      "total_eval_num:  520\n",
      "total_eval_num:  544\n",
      "total_eval_num:  544\n",
      "total_eval_num:  576\n",
      "total_eval_num:  512\n",
      "total_eval_num:  616\n",
      "total_eval_num:  480\n",
      "total_eval_num:  560\n",
      "total_eval_num:  568\n",
      "total_eval_num:  472\n",
      "total_eval_num:  640\n",
      "total_eval_num:  600\n"
     ]
    },
    {
     "name": "stderr",
     "output_type": "stream",
     "text": [
      "100%|████████████████████████████████████| 100/100 [00:00<00:00, 123.86it/s]\n"
     ]
    },
    {
     "name": "stdout",
     "output_type": "stream",
     "text": [
      "total_eval_num:  536\n",
      "total_eval_num:  616\n",
      "total_eval_num:  568\n",
      "total_eval_num:  496\n",
      "total_eval_num:  616\n",
      "total_eval_num:  536\n",
      "total_eval_num:  568\n",
      "total_eval_num:  496\n",
      "save results into outputs/cmaes_20230205073651_5.pickle\n",
      "dim: 6\n"
     ]
    },
    {
     "name": "stderr",
     "output_type": "stream",
     "text": [
      "\r",
      "  0%|                                               | 0/100 [00:00<?, ?it/s]"
     ]
    },
    {
     "name": "stdout",
     "output_type": "stream",
     "text": [
      "total_eval_num:  684\n",
      "total_eval_num:  666\n"
     ]
    },
    {
     "name": "stderr",
     "output_type": "stream",
     "text": [
      "\r",
      " 12%|████▍                                | 12/100 [00:00<00:00, 118.79it/s]"
     ]
    },
    {
     "name": "stdout",
     "output_type": "stream",
     "text": [
      "total_eval_num:  594\n",
      "total_eval_num:  567\n",
      "total_eval_num:  603\n",
      "total_eval_num:  639\n",
      "total_eval_num:  612\n",
      "total_eval_num:  594\n",
      "total_eval_num:  684\n",
      "total_eval_num:  603\n",
      "total_eval_num:  612\n",
      "total_eval_num:  675\n",
      "total_eval_num:  585\n",
      "total_eval_num:  639\n",
      "total_eval_num:  594\n",
      "total_eval_num:  612\n",
      "total_eval_num:  603\n",
      "total_eval_num:  621\n",
      "total_eval_num:  675\n"
     ]
    },
    {
     "name": "stderr",
     "output_type": "stream",
     "text": [
      "\r",
      " 26%|█████████▌                           | 26/100 [00:00<00:00, 127.62it/s]"
     ]
    },
    {
     "name": "stdout",
     "output_type": "stream",
     "text": [
      "total_eval_num:  612\n",
      "total_eval_num:  621\n",
      "total_eval_num:  621\n",
      "total_eval_num:  576\n",
      "total_eval_num:  585\n",
      "total_eval_num:  603\n",
      "total_eval_num:  729\n",
      "total_eval_num:  666\n",
      "total_eval_num:  630\n",
      "total_eval_num:  756\n",
      "total_eval_num:  630\n"
     ]
    },
    {
     "name": "stderr",
     "output_type": "stream",
     "text": [
      "\r",
      " 39%|██████████████▍                      | 39/100 [00:00<00:00, 124.77it/s]"
     ]
    },
    {
     "name": "stdout",
     "output_type": "stream",
     "text": [
      "total_eval_num:  576\n",
      "total_eval_num:  684\n",
      "total_eval_num:  558\n",
      "total_eval_num:  603\n",
      "total_eval_num:  621\n",
      "total_eval_num:  702\n",
      "total_eval_num:  630\n",
      "total_eval_num:  639\n",
      "total_eval_num:  585\n",
      "total_eval_num:  558\n",
      "total_eval_num:  729\n",
      "total_eval_num:  639\n",
      "total_eval_num:  603\n",
      "total_eval_num:  621\n",
      "total_eval_num:  621\n",
      "total_eval_num:  621\n",
      "total_eval_num:  567\n",
      "total_eval_num:  621\n",
      "total_eval_num:  639\n",
      "total_eval_num:  675\n",
      "total_eval_num:  666\n",
      "total_eval_num:  630\n"
     ]
    },
    {
     "name": "stderr",
     "output_type": "stream",
     "text": [
      " 67%|████████████████████████▊            | 67/100 [00:00<00:00, 117.81it/s]"
     ]
    },
    {
     "name": "stdout",
     "output_type": "stream",
     "text": [
      "total_eval_num:  621\n",
      "total_eval_num:  639\n",
      "total_eval_num:  639\n",
      "total_eval_num:  549\n",
      "total_eval_num:  531\n",
      "total_eval_num:  666\n",
      "total_eval_num:  621\n",
      "total_eval_num:  594\n",
      "total_eval_num:  585\n",
      "total_eval_num:  621\n",
      "total_eval_num:  576\n",
      "total_eval_num:  576\n",
      "total_eval_num:  549\n",
      "total_eval_num:  729\n",
      "total_eval_num:  603\n",
      "total_eval_num:  693\n",
      "total_eval_num:  549\n",
      "total_eval_num:  630\n",
      "total_eval_num:  621\n",
      "total_eval_num:  648\n",
      "total_eval_num:  630\n",
      "total_eval_num:  549\n",
      "total_eval_num:  558\n",
      "total_eval_num:  621\n",
      "total_eval_num: "
     ]
    },
    {
     "name": "stderr",
     "output_type": "stream",
     "text": [
      "\r",
      " 80%|█████████████████████████████▌       | 80/100 [00:00<00:00, 120.21it/s]"
     ]
    },
    {
     "name": "stdout",
     "output_type": "stream",
     "text": [
      " 603\n",
      "total_eval_num:  621\n",
      "total_eval_num:  630\n",
      "total_eval_num:  639\n",
      "total_eval_num:  630\n",
      "total_eval_num:  711\n",
      "total_eval_num:  621\n"
     ]
    },
    {
     "name": "stderr",
     "output_type": "stream",
     "text": [
      "100%|████████████████████████████████████| 100/100 [00:00<00:00, 118.35it/s]\n"
     ]
    },
    {
     "name": "stdout",
     "output_type": "stream",
     "text": [
      "total_eval_num:  666\n",
      "total_eval_num:  648\n",
      "total_eval_num:  549\n",
      "total_eval_num:  666\n",
      "total_eval_num:  657\n",
      "total_eval_num:  648\n",
      "total_eval_num:  630\n",
      "total_eval_num:  648\n",
      "total_eval_num:  603\n",
      "total_eval_num:  585\n",
      "total_eval_num:  693\n",
      "total_eval_num:  585\n",
      "total_eval_num:  621\n",
      "total_eval_num:  585\n",
      "total_eval_num:  594\n",
      "total_eval_num:  747\n",
      "total_eval_num:  684\n",
      "save results into outputs/cmaes_20230205073651_6.pickle\n",
      "dim: 7\n"
     ]
    },
    {
     "name": "stderr",
     "output_type": "stream",
     "text": [
      "\r",
      "  0%|                                               | 0/100 [00:00<?, ?it/s]"
     ]
    },
    {
     "name": "stdout",
     "output_type": "stream",
     "text": [
      "total_eval_num:  648\n",
      "total_eval_num:  657\n",
      "total_eval_num:  639\n",
      "total_eval_num:  648\n",
      "total_eval_num:  675\n",
      "total_eval_num:  765\n",
      "total_eval_num:  648\n",
      "total_eval_num:  621\n"
     ]
    },
    {
     "name": "stderr",
     "output_type": "stream",
     "text": [
      " 22%|████████▏                            | 22/100 [00:00<00:00, 109.05it/s]"
     ]
    },
    {
     "name": "stdout",
     "output_type": "stream",
     "text": [
      "total_eval_num:  612\n",
      "total_eval_num:  720\n",
      "total_eval_num:  657\n",
      "total_eval_num:  603\n",
      "total_eval_num:  684\n",
      "total_eval_num:  621\n",
      "total_eval_num:  666\n",
      "total_eval_num:  666\n",
      "total_eval_num:  594\n",
      "total_eval_num:  774\n",
      "total_eval_num:  621\n",
      "total_eval_num:  675\n",
      "total_eval_num:  540\n",
      "total_eval_num:  729\n",
      "total_eval_num:  621\n",
      "total_eval_num:  684\n",
      "total_eval_num:  738\n",
      "total_eval_num:  612\n",
      "total_eval_num:  765\n",
      "total_eval_num:  612\n",
      "total_eval_num:  720\n",
      "total_eval_num:  567\n",
      "total_eval_num:  711\n"
     ]
    },
    {
     "name": "stderr",
     "output_type": "stream",
     "text": [
      " 45%|████████████████▋                    | 45/100 [00:00<00:00, 110.54it/s]"
     ]
    },
    {
     "name": "stdout",
     "output_type": "stream",
     "text": [
      "total_eval_num:  711\n",
      "total_eval_num:  711\n",
      "total_eval_num:  711\n",
      "total_eval_num:  648\n",
      "total_eval_num:  612\n",
      "total_eval_num:  594\n",
      "total_eval_num:  639\n",
      "total_eval_num:  657\n",
      "total_eval_num:  639\n",
      "total_eval_num:  711\n",
      "total_eval_num:  594\n",
      "total_eval_num:  630\n",
      "total_eval_num:  648\n",
      "total_eval_num:  666\n",
      "total_eval_num:  585\n",
      "total_eval_num:  657\n",
      "total_eval_num:  666\n",
      "total_eval_num:  603\n",
      "total_eval_num:  621\n",
      "total_eval_num:  657\n",
      "total_eval_num:  612\n",
      "total_eval_num:  558\n",
      "total_eval_num:  621\n",
      "total_eval_num:  621\n",
      "total_eval_num:  594\n"
     ]
    },
    {
     "name": "stderr",
     "output_type": "stream",
     "text": [
      " 69%|█████████████████████████▌           | 69/100 [00:00<00:00, 112.54it/s]"
     ]
    },
    {
     "name": "stdout",
     "output_type": "stream",
     "text": [
      "total_eval_num:  720\n",
      "total_eval_num:  828\n",
      "total_eval_num:  630\n",
      "total_eval_num:  666\n",
      "total_eval_num:  621\n",
      "total_eval_num:  702\n",
      "total_eval_num:  693\n",
      "total_eval_num:  630\n",
      "total_eval_num:  648\n",
      "total_eval_num:  648\n",
      "total_eval_num:  612\n",
      "total_eval_num:  630\n",
      "total_eval_num:  648\n",
      "total_eval_num:  621\n",
      "total_eval_num:  621\n",
      "total_eval_num:  747\n",
      "total_eval_num:  603\n",
      "total_eval_num:  648\n",
      "total_eval_num:  540\n",
      "total_eval_num:  702\n",
      "total_eval_num:  639\n",
      "total_eval_num:  684\n",
      "total_eval_num:  639\n",
      "total_eval_num:  675\n"
     ]
    },
    {
     "name": "stderr",
     "output_type": "stream",
     "text": [
      " 93%|██████████████████████████████████▍  | 93/100 [00:00<00:00, 106.20it/s]"
     ]
    },
    {
     "name": "stdout",
     "output_type": "stream",
     "text": [
      "total_eval_num:  693\n",
      "total_eval_num:  612\n",
      "total_eval_num:  630\n",
      "total_eval_num:  585\n",
      "total_eval_num:  702\n",
      "total_eval_num:  720\n",
      "total_eval_num:  657\n",
      "total_eval_num:  603\n",
      "total_eval_num:  567\n",
      "total_eval_num:  648\n",
      "total_eval_num:  729\n",
      "total_eval_num:  630\n",
      "total_eval_num:  648\n",
      "total_eval_num:  675\n",
      "total_eval_num:  684\n",
      "total_eval_num:  648\n"
     ]
    },
    {
     "name": "stderr",
     "output_type": "stream",
     "text": [
      "100%|████████████████████████████████████| 100/100 [00:00<00:00, 107.09it/s]\n"
     ]
    },
    {
     "name": "stdout",
     "output_type": "stream",
     "text": [
      "total_eval_num:  684\n",
      "total_eval_num:  612\n",
      "total_eval_num:  666\n",
      "total_eval_num:  693\n",
      "save results into outputs/cmaes_20230205073651_7.pickle\n",
      "dim: 8\n"
     ]
    },
    {
     "name": "stderr",
     "output_type": "stream",
     "text": [
      " 12%|████▍                                | 12/100 [00:00<00:00, 116.07it/s]"
     ]
    },
    {
     "name": "stdout",
     "output_type": "stream",
     "text": [
      "total_eval_num:  720\n",
      "total_eval_num:  800\n",
      "total_eval_num:  750\n",
      "total_eval_num:  760\n",
      "total_eval_num:  690\n",
      "total_eval_num:  790\n",
      "total_eval_num:  720\n",
      "total_eval_num:  690\n",
      "total_eval_num:  690\n",
      "total_eval_num:  720\n",
      "total_eval_num:  760\n",
      "total_eval_num:  810\n",
      "total_eval_num:  790\n",
      "total_eval_num:  710\n",
      "total_eval_num:  740\n",
      "total_eval_num:  930\n",
      "total_eval_num:  770\n",
      "total_eval_num:  760\n",
      "total_eval_num:  750\n",
      "total_eval_num:  680\n",
      "total_eval_num:  710\n",
      "total_eval_num:  760\n",
      "total_eval_num:  750\n"
     ]
    },
    {
     "name": "stderr",
     "output_type": "stream",
     "text": [
      " 36%|█████████████▎                       | 36/100 [00:00<00:00, 112.84it/s]"
     ]
    },
    {
     "name": "stdout",
     "output_type": "stream",
     "text": [
      "total_eval_num:  680\n",
      "total_eval_num:  800\n",
      "total_eval_num:  730\n",
      "total_eval_num:  710\n",
      "total_eval_num:  650\n",
      "total_eval_num:  810\n",
      "total_eval_num:  670\n",
      "total_eval_num:  740\n",
      "total_eval_num:  710\n",
      "total_eval_num:  730\n",
      "total_eval_num:  740\n",
      "total_eval_num:  740\n",
      "total_eval_num:  710\n",
      "total_eval_num:  700\n",
      "total_eval_num:  650\n",
      "total_eval_num:  720\n",
      "total_eval_num:  730\n",
      "total_eval_num:  760\n",
      "total_eval_num:  680\n",
      "total_eval_num:  710\n",
      "total_eval_num:  690\n",
      "total_eval_num:  790\n",
      "total_eval_num:  820\n",
      "total_eval_num:  760\n"
     ]
    },
    {
     "name": "stderr",
     "output_type": "stream",
     "text": [
      " 60%|██████████████████████▏              | 60/100 [00:00<00:00, 115.64it/s]"
     ]
    },
    {
     "name": "stdout",
     "output_type": "stream",
     "text": [
      "total_eval_num:  690\n",
      "total_eval_num:  680\n",
      "total_eval_num:  790\n",
      "total_eval_num:  650\n",
      "total_eval_num:  720\n",
      "total_eval_num:  790\n",
      "total_eval_num:  700\n",
      "total_eval_num:  730\n",
      "total_eval_num:  740\n",
      "total_eval_num:  700\n",
      "total_eval_num:  650\n",
      "total_eval_num:  760\n",
      "total_eval_num:  800\n",
      "total_eval_num:  740\n",
      "total_eval_num:  730\n",
      "total_eval_num:  690\n",
      "total_eval_num:  710\n",
      "total_eval_num:  690\n",
      "total_eval_num:  750\n",
      "total_eval_num:  790\n",
      "total_eval_num:  830\n",
      "total_eval_num:  700\n",
      "total_eval_num:  810\n",
      "total_eval_num:  740\n"
     ]
    },
    {
     "name": "stderr",
     "output_type": "stream",
     "text": [
      " 84%|███████████████████████████████      | 84/100 [00:00<00:00, 115.91it/s]"
     ]
    },
    {
     "name": "stdout",
     "output_type": "stream",
     "text": [
      "total_eval_num:  770\n",
      "total_eval_num:  750\n",
      "total_eval_num:  690\n",
      "total_eval_num:  770\n",
      "total_eval_num:  730\n",
      "total_eval_num:  720\n",
      "total_eval_num:  670\n",
      "total_eval_num:  690\n",
      "total_eval_num:  740\n",
      "total_eval_num:  680\n",
      "total_eval_num:  680\n",
      "total_eval_num:  790\n",
      "total_eval_num:  740\n",
      "total_eval_num:  700\n",
      "total_eval_num:  670\n",
      "total_eval_num:  740\n",
      "total_eval_num:  710\n",
      "total_eval_num:  650\n",
      "total_eval_num:  860\n",
      "total_eval_num:  790\n",
      "total_eval_num:  740\n",
      "total_eval_num:  790\n",
      "total_eval_num:  760\n",
      "total_eval_num:  810\n"
     ]
    },
    {
     "name": "stderr",
     "output_type": "stream",
     "text": [
      "100%|████████████████████████████████████| 100/100 [00:00<00:00, 115.11it/s]\n"
     ]
    },
    {
     "name": "stdout",
     "output_type": "stream",
     "text": [
      "total_eval_num:  690\n",
      "total_eval_num:  630\n",
      "total_eval_num:  690\n",
      "total_eval_num:  740\n",
      "total_eval_num:  790\n",
      "save results into outputs/cmaes_20230205073651_8.pickle\n",
      "dim: 9\n"
     ]
    },
    {
     "name": "stderr",
     "output_type": "stream",
     "text": [
      " 12%|████▍                                | 12/100 [00:00<00:00, 117.53it/s]"
     ]
    },
    {
     "name": "stdout",
     "output_type": "stream",
     "text": [
      "total_eval_num:  710\n",
      "total_eval_num:  720\n",
      "total_eval_num:  750\n",
      "total_eval_num:  750\n",
      "total_eval_num:  690\n",
      "total_eval_num:  750\n",
      "total_eval_num:  680\n",
      "total_eval_num:  710\n",
      "total_eval_num:  750\n",
      "total_eval_num:  700\n",
      "total_eval_num:  720\n",
      "total_eval_num:  820\n",
      "total_eval_num:  760\n",
      "total_eval_num:  770\n",
      "total_eval_num:  730\n",
      "total_eval_num:  740\n",
      "total_eval_num:  760\n",
      "total_eval_num:  690\n",
      "total_eval_num:  710\n",
      "total_eval_num:  760\n",
      "total_eval_num:  810\n",
      "total_eval_num:  720\n",
      "total_eval_num:  790\n"
     ]
    },
    {
     "name": "stderr",
     "output_type": "stream",
     "text": [
      "\r",
      " 24%|████████▉                            | 24/100 [00:00<00:00, 110.42it/s]"
     ]
    },
    {
     "name": "stdout",
     "output_type": "stream",
     "text": [
      "total_eval_num:  750\n",
      "total_eval_num:  740\n",
      "total_eval_num:  790\n",
      "total_eval_num:  770\n",
      "total_eval_num:  650\n",
      "total_eval_num:  770\n",
      "total_eval_num:  750\n",
      "total_eval_num:  810\n",
      "total_eval_num:  750\n",
      "total_eval_num:  780\n",
      "total_eval_num:  800\n",
      "total_eval_num:  700\n"
     ]
    },
    {
     "name": "stderr",
     "output_type": "stream",
     "text": [
      "\r",
      " 36%|█████████████▎                       | 36/100 [00:00<00:00, 105.77it/s]"
     ]
    },
    {
     "name": "stdout",
     "output_type": "stream",
     "text": [
      "total_eval_num:  800\n",
      "total_eval_num:  740\n",
      "total_eval_num:  780\n",
      "total_eval_num:  700\n",
      "total_eval_num:  690\n",
      "total_eval_num:  710\n",
      "total_eval_num:  690\n",
      "total_eval_num:  700\n",
      "total_eval_num:  710\n",
      "total_eval_num:  740\n"
     ]
    },
    {
     "name": "stderr",
     "output_type": "stream",
     "text": [
      "\r",
      " 48%|█████████████████▊                   | 48/100 [00:00<00:00, 107.96it/s]"
     ]
    },
    {
     "name": "stdout",
     "output_type": "stream",
     "text": [
      "total_eval_num:  770\n",
      "total_eval_num:  730\n",
      "total_eval_num:  730\n",
      "total_eval_num:  700\n",
      "total_eval_num:  750\n",
      "total_eval_num:  760\n",
      "total_eval_num:  700\n",
      "total_eval_num:  760\n",
      "total_eval_num:  730\n",
      "total_eval_num:  720\n",
      "total_eval_num:  660\n",
      "total_eval_num:  700\n",
      "total_eval_num:  760\n"
     ]
    },
    {
     "name": "stderr",
     "output_type": "stream",
     "text": [
      "\r",
      " 60%|██████████████████████▏              | 60/100 [00:00<00:00, 109.04it/s]"
     ]
    },
    {
     "name": "stdout",
     "output_type": "stream",
     "text": [
      "total_eval_num:  750\n",
      "total_eval_num:  720\n",
      "total_eval_num:  700\n",
      "total_eval_num:  770\n",
      "total_eval_num:  750\n",
      "total_eval_num:  750\n",
      "total_eval_num:  800\n",
      "total_eval_num:  840\n",
      "total_eval_num:  770\n"
     ]
    },
    {
     "name": "stderr",
     "output_type": "stream",
     "text": [
      "\r",
      " 71%|██████████████████████████▎          | 71/100 [00:00<00:00, 106.05it/s]"
     ]
    },
    {
     "name": "stdout",
     "output_type": "stream",
     "text": [
      "total_eval_num:  800\n",
      "total_eval_num:  710\n",
      "total_eval_num:  820\n",
      "total_eval_num:  700\n",
      "total_eval_num:  690\n",
      "total_eval_num:  700\n",
      "total_eval_num:  740\n",
      "total_eval_num:  780\n",
      "total_eval_num:  730\n",
      "total_eval_num:  690\n",
      "total_eval_num:  730\n",
      "total_eval_num:  600\n",
      "total_eval_num:  730\n"
     ]
    },
    {
     "name": "stderr",
     "output_type": "stream",
     "text": [
      "\r",
      " 83%|██████████████████████████████▋      | 83/100 [00:00<00:00, 108.35it/s]"
     ]
    },
    {
     "name": "stdout",
     "output_type": "stream",
     "text": [
      "total_eval_num:  700\n",
      "total_eval_num:  790\n",
      "total_eval_num:  760\n",
      "total_eval_num:  710\n",
      "total_eval_num:  800\n",
      "total_eval_num:  790\n",
      "total_eval_num:  690\n",
      "total_eval_num:  690\n",
      "total_eval_num:  730\n",
      "total_eval_num:  740\n"
     ]
    },
    {
     "name": "stderr",
     "output_type": "stream",
     "text": [
      "100%|████████████████████████████████████| 100/100 [00:00<00:00, 106.50it/s]"
     ]
    },
    {
     "name": "stdout",
     "output_type": "stream",
     "text": [
      "total_eval_num:  740\n",
      "total_eval_num:  730\n",
      "total_eval_num:  820\n",
      "total_eval_num:  810\n",
      "total_eval_num:  690\n",
      "total_eval_num:  650\n",
      "total_eval_num:  700\n",
      "total_eval_num:  730\n",
      "total_eval_num:  770\n",
      "total_eval_num:  670\n",
      "save results into outputs/cmaes_20230205073651_9.pickle\n"
     ]
    },
    {
     "name": "stderr",
     "output_type": "stream",
     "text": [
      "\n"
     ]
    }
   ],
   "source": [
    "config = common_config.copy()\n",
    "for n_dim in range(1, 10):\n",
    "    target = 0.75 * np.ones(n_dim)\n",
    "    config.update({\n",
    "        \"n_dim\": n_dim,\n",
    "        \"n_samples\": get_sample_size(n_dim),\n",
    "        \"target\": target\n",
    "    })\n",
    "    \n",
    "    rastrigin = get_rastrigin(target, square_term=config[\"square_term\"])\n",
    "\n",
    "    init_mean =  np.ones(n_dim) * 0.25\n",
    "    init_cov = np.identity(n_dim)\n",
    "    init_step_size = 0.3\n",
    "    init_cma_param = CMAParam(init_mean, init_cov, init_step_size )\n",
    "\n",
    "    print(f\"dim: {n_dim}\")\n",
    "\n",
    "    eval_hists = []\n",
    "    min_func_hists = []\n",
    "    dist_target_hists = []\n",
    "\n",
    "    for _ in tqdm(range(trial_num)):\n",
    "        cma_param, (min_func_hist, eval_hist, dist_target, _)  = \\\n",
    "            cmaes.run_cmaes(rastrigin, init_cma_param, config, verbose=False)\n",
    "        eval_hists.append(eval_hist)\n",
    "        min_func_hists.append(min_func_hist)\n",
    "        dist_target_hists.append(dist_target)\n",
    "\n",
    "\n",
    "    filename = f\"outputs/cmaes_{executed_time}_{config['n_dim']}.pickle\"\n",
    "\n",
    "    with open(filename, mode='wb') as f:\n",
    "        pickle.dump({\"eval_hists\": eval_hists, \"min_func_hists\": min_func_hists,\n",
    "                     \"dist_target\": dist_target_hists, \"config\": config}, f)\n",
    "    \n",
    "    print(f\"save results into {filename}\")"
   ]
  },
  {
   "cell_type": "markdown",
   "id": "dbe59c9e",
   "metadata": {},
   "source": [
    "GAS"
   ]
  },
  {
   "cell_type": "code",
   "execution_count": 28,
   "id": "b657b2c9",
   "metadata": {},
   "outputs": [
    {
     "name": "stdout",
     "output_type": "stream",
     "text": [
      "dim: 1\n"
     ]
    },
    {
     "name": "stderr",
     "output_type": "stream",
     "text": [
      "[Parallel(n_jobs=20)]: Using backend LokyBackend with 20 concurrent workers.\n",
      "[Parallel(n_jobs=20)]: Done   1 tasks      | elapsed:    0.6s\n",
      "[Parallel(n_jobs=20)]: Done  10 tasks      | elapsed:    0.6s\n",
      "[Parallel(n_jobs=20)]: Done  21 tasks      | elapsed:    0.7s\n",
      "[Parallel(n_jobs=20)]: Batch computation too fast (0.1985s.) Setting batch_size=2.\n",
      "[Parallel(n_jobs=20)]: Done  32 tasks      | elapsed:    0.7s\n",
      "[Parallel(n_jobs=20)]: Done  45 tasks      | elapsed:    0.7s\n",
      "[Parallel(n_jobs=20)]: Done  58 tasks      | elapsed:    0.7s\n",
      "[Parallel(n_jobs=20)]: Done  72 out of 100 | elapsed:    0.7s remaining:    0.3s\n",
      "[Parallel(n_jobs=20)]: Done  83 out of 100 | elapsed:    0.7s remaining:    0.2s\n",
      "[Parallel(n_jobs=20)]: Done  94 out of 100 | elapsed:    0.8s remaining:    0.1s\n",
      "[Parallel(n_jobs=20)]: Done 100 out of 100 | elapsed:    0.9s finished\n",
      "[Parallel(n_jobs=20)]: Using backend LokyBackend with 20 concurrent workers.\n",
      "[Parallel(n_jobs=20)]: Done   1 tasks      | elapsed:    0.0s\n",
      "[Parallel(n_jobs=20)]: Batch computation too fast (0.0167s.) Setting batch_size=2.\n",
      "[Parallel(n_jobs=20)]: Done  10 tasks      | elapsed:    0.1s\n"
     ]
    },
    {
     "name": "stdout",
     "output_type": "stream",
     "text": [
      "save results into outputs/grover_20230205073651_1.pickle\n",
      "dim: 2\n"
     ]
    },
    {
     "name": "stderr",
     "output_type": "stream",
     "text": [
      "[Parallel(n_jobs=20)]: Done  21 tasks      | elapsed:    0.2s\n",
      "[Parallel(n_jobs=20)]: Done  34 tasks      | elapsed:    0.3s\n",
      "[Parallel(n_jobs=20)]: Done  50 out of 100 | elapsed:    0.6s remaining:    0.6s\n",
      "[Parallel(n_jobs=20)]: Done  61 out of 100 | elapsed:    0.7s remaining:    0.5s\n",
      "[Parallel(n_jobs=20)]: Done  72 out of 100 | elapsed:    0.8s remaining:    0.3s\n",
      "[Parallel(n_jobs=20)]: Done  83 out of 100 | elapsed:    0.9s remaining:    0.2s\n",
      "[Parallel(n_jobs=20)]: Done  94 out of 100 | elapsed:    1.1s remaining:    0.1s\n",
      "[Parallel(n_jobs=20)]: Done 100 out of 100 | elapsed:    1.3s finished\n",
      "[Parallel(n_jobs=20)]: Using backend LokyBackend with 20 concurrent workers.\n"
     ]
    },
    {
     "name": "stdout",
     "output_type": "stream",
     "text": [
      "save results into outputs/grover_20230205073651_2.pickle\n",
      "dim: 3\n"
     ]
    },
    {
     "name": "stderr",
     "output_type": "stream",
     "text": [
      "[Parallel(n_jobs=20)]: Done   1 tasks      | elapsed:    0.8s\n",
      "[Parallel(n_jobs=20)]: Done  10 tasks      | elapsed:   14.4s\n",
      "[Parallel(n_jobs=20)]: Done  21 tasks      | elapsed:   25.5s\n",
      "[Parallel(n_jobs=20)]: Done  32 tasks      | elapsed:   35.5s\n",
      "[Parallel(n_jobs=20)]: Done  45 tasks      | elapsed:   43.8s\n",
      "[Parallel(n_jobs=20)]: Done  58 tasks      | elapsed:  1.0min\n",
      "[Parallel(n_jobs=20)]: Done  72 out of 100 | elapsed:  1.2min remaining:   28.8s\n",
      "[Parallel(n_jobs=20)]: Done  83 out of 100 | elapsed:  1.4min remaining:   17.4s\n",
      "[Parallel(n_jobs=20)]: Done  94 out of 100 | elapsed:  1.6min remaining:    6.1s\n"
     ]
    },
    {
     "name": "stdout",
     "output_type": "stream",
     "text": [
      "save results into outputs/grover_20230205073651_3.pickle\n"
     ]
    },
    {
     "name": "stderr",
     "output_type": "stream",
     "text": [
      "[Parallel(n_jobs=20)]: Done 100 out of 100 | elapsed:  1.8min finished\n"
     ]
    }
   ],
   "source": [
    "config = common_config.copy()\n",
    "for n_dim in range(1, 4):\n",
    "    target = 0.75 * np.ones(n_dim)\n",
    "    config.update({\n",
    "        \"n_dim\": n_dim,\n",
    "        \"target\": target\n",
    "    })\n",
    "    rastrigin = get_rastrigin(target, square_term=config[\"square_term\"])\n",
    "    config.update({\n",
    "        \"init_mean\": np.ones(n_dim) * 0.25\n",
    "    })\n",
    "    config.update({\"init_threshold\": float(rastrigin(config[\"init_mean\"]))})\n",
    "\n",
    "    print(f\"dim: {n_dim}\")\n",
    "\n",
    "    def trial(config):\n",
    "        _, (min_func_hist, eval_hist, dist_target_hist) = grover_adaptive.run_grover_minimization(rastrigin, config, verbose=False)\n",
    "        return min_func_hist, eval_hist, dist_target_hist\n",
    "\n",
    "    min_func_hists, eval_hists, dist_target_hists = zip(*joblib.Parallel(n_jobs=20, verbose=10)(\n",
    "        [joblib.delayed(trial)(config) for _ in range(trial_num)]))\n",
    "    \n",
    "\n",
    "    filename = f\"outputs/grover_{executed_time}_{config['n_dim']}.pickle\"\n",
    "\n",
    "    with open(filename, mode='wb') as f:\n",
    "        pickle.dump({\"eval_hists\": eval_hists, \"min_func_hists\": min_func_hists,\n",
    "                     \"dist_target\": dist_target_hists, \"config\": config}, f)\n",
    "    \n",
    "    print(f\"save results into {filename}\")"
   ]
  },
  {
   "cell_type": "code",
   "execution_count": null,
   "id": "c9495fb4",
   "metadata": {},
   "outputs": [],
   "source": []
  },
  {
   "cell_type": "code",
   "execution_count": null,
   "id": "7d65605b",
   "metadata": {},
   "outputs": [],
   "source": []
  }
 ],
 "metadata": {
  "kernelspec": {
   "display_name": "Python 3 (ipykernel)",
   "language": "python",
   "name": "python3"
  },
  "language_info": {
   "codemirror_mode": {
    "name": "ipython",
    "version": 3
   },
   "file_extension": ".py",
   "mimetype": "text/x-python",
   "name": "python",
   "nbconvert_exporter": "python",
   "pygments_lexer": "ipython3",
   "version": "3.8.10"
  }
 },
 "nbformat": 4,
 "nbformat_minor": 5
}
