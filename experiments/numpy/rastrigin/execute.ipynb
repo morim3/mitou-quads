{
 "cells": [
  {
   "cell_type": "code",
   "execution_count": 1,
   "id": "4475597f",
   "metadata": {},
   "outputs": [],
   "source": [
    "import sys\n",
    "sys.path.append(\"../../../\")\n",
    "%load_ext autoreload\n",
    "%autoreload 2"
   ]
  },
  {
   "cell_type": "code",
   "execution_count": 11,
   "id": "1a3d857b",
   "metadata": {},
   "outputs": [],
   "source": [
    "import matplotlib.pyplot as plt\n",
    "import numpy as np\n",
    "from tqdm import tqdm\n",
    "from models.amp_sim import quads, grover_adaptive\n",
    "from models.classical import cmaes\n",
    "from models.parameters import QuadsParam, QuadsHyperParam, CMAParam, CMAHyperParam\n",
    "from utils.objective_functions import get_rastrigin\n",
    "import random\n",
    "\n",
    "import time, datetime\n",
    "today = datetime.datetime.fromtimestamp(time.time())\n",
    "executed_time = today.strftime('%Y%m%d%H%M%S')\n",
    "random.seed(42)\n",
    "np.random.seed(seed=42)"
   ]
  },
  {
   "cell_type": "markdown",
   "id": "bad292aa",
   "metadata": {},
   "source": [
    "パラメーター設定"
   ]
  },
  {
   "cell_type": "code",
   "execution_count": 14,
   "id": "b8514ce0",
   "metadata": {},
   "outputs": [],
   "source": [
    "n_dim = 3\n",
    "trial_num = 100\n",
    "target = np.ones(n_dim) * 0.75\n",
    "\n",
    "\n",
    "init_mean = np.ones(n_dim) * 0.25\n",
    "init_cov = np.identity(n_dim)\n",
    "init_step_size = 0.3\n",
    "\n",
    "rastrigin = get_rastrigin(target=target, square_term=2)\n",
    "init_threshold = rastrigin(init_mean)\n",
    "\n",
    "\n",
    "config = {\n",
    "    \"sampler_type\": \"quantum\",\n",
    "    \"n_dim\": n_dim,\n",
    "    \"n_digits\": 8,\n",
    "    \"iter_num\": 100,\n",
    "    \"n_samples\": 4,\n",
    "    \"terminate_step_size\": 0.001,\n",
    "    \"terminate_eps\": 0.01,\n",
    "    \"optimal_amplify_num\": False,\n",
    "    \"quantile\": 0.1,\n",
    "    \"smoothing_th\": 0.5,\n",
    "    \"target\": target,\n",
    "    \"eval_limit_one_sample\": 10000,\n",
    "    \"init_threshold\": init_threshold\n",
    "}\n",
    "\n",
    "\n",
    "\n",
    "quads_param = QuadsParam(\n",
    "    init_threshold, CMAParam(init_mean, init_cov, init_step_size ))\n"
   ]
  },
  {
   "cell_type": "markdown",
   "id": "f55ec88b",
   "metadata": {},
   "source": [
    "Quads"
   ]
  },
  {
   "cell_type": "code",
   "execution_count": null,
   "id": "3f70b746",
   "metadata": {},
   "outputs": [
    {
     "name": "stderr",
     "output_type": "stream",
     "text": [
      "  1%|▊                                                                              | 1/100 [03:47<6:14:47, 227.14s/it]"
     ]
    },
    {
     "name": "stdout",
     "output_type": "stream",
     "text": [
      "total_eval_num:  326\n"
     ]
    },
    {
     "name": "stderr",
     "output_type": "stream",
     "text": [
      "\r",
      "  2%|█▌                                                                             | 2/100 [07:00<5:38:36, 207.32s/it]"
     ]
    },
    {
     "name": "stdout",
     "output_type": "stream",
     "text": [
      "total_eval_num:  208\n"
     ]
    },
    {
     "name": "stderr",
     "output_type": "stream",
     "text": [
      "\r",
      "  3%|██▎                                                                            | 3/100 [10:15<5:26:21, 201.88s/it]"
     ]
    },
    {
     "name": "stdout",
     "output_type": "stream",
     "text": [
      "total_eval_num:  171\n"
     ]
    }
   ],
   "source": [
    "eval_hists_quads = []\n",
    "min_func_hists_quads = []\n",
    "dist_target_hists_quads = []\n",
    "for _ in tqdm(range(trial_num)):\n",
    "    _, (min_func_hist, eval_num_hist, dist_target_hist, _) = quads.run_quads(rastrigin, quads_param, config, verbose=False)\n",
    "    eval_hists_quads.append(eval_num_hist)\n",
    "    min_func_hists_quads.append(min_func_hist)\n",
    "    dist_target_hists_quads.append(dist_target_hist)"
   ]
  },
  {
   "cell_type": "code",
   "execution_count": null,
   "id": "176c3e90",
   "metadata": {},
   "outputs": [],
   "source": [
    "import pickle\n",
    "with open(f\"./outputs/quads_{executed_time}.pickle\", mode='wb') as f:\n",
    "    pickle.dump({\"eval_hists\": eval_hists_quads, \"min_func_hists\": min_func_hists_quads,\n",
    "                 \"dist_target\": dist_target_hists_quads, \"config\": config}, f)"
   ]
  },
  {
   "cell_type": "markdown",
   "id": "73cf2047",
   "metadata": {},
   "source": [
    "Grover"
   ]
  },
  {
   "cell_type": "code",
   "execution_count": null,
   "id": "98ed831f",
   "metadata": {},
   "outputs": [],
   "source": [
    "min_func_hists_grover = []\n",
    "eval_hists_grover = []\n",
    "dist_target_hists_grover = []\n",
    "for _ in tqdm(range(trial_num)):\n",
    "    _, (min_func_hist, eval_num_hist, dist_target_hist, _) = grover_adaptive.run_grover_minimization(rastrigin, config, False)\n",
    "    min_func_hists_grover.append(np.array(min_func_hist))\n",
    "    eval_hists_grover.append(np.array(eval_hist))\n",
    "    dist_target_hists_grover.append(np.array(dist_target_hist))"
   ]
  },
  {
   "cell_type": "code",
   "execution_count": null,
   "id": "a6e34e59",
   "metadata": {},
   "outputs": [],
   "source": [
    "import pickle\n",
    "with open(f\"./outputs/grover_{executed_time}.pickle\", mode='wb') as f:\n",
    "    pickle.dump({\"eval_hists\": eval_hists_grover, \"min_fun_hists\": min_func_hists_grover, \n",
    "                 \"dist_target\": dist_target_hists_grover, \"config\": config}, f)"
   ]
  },
  {
   "cell_type": "markdown",
   "id": "bc802af8",
   "metadata": {},
   "source": [
    "CMAES"
   ]
  },
  {
   "cell_type": "code",
   "execution_count": null,
   "id": "970c49c9",
   "metadata": {},
   "outputs": [],
   "source": [
    "eval_hists_cmaes = []\n",
    "min_func_hists_cmaes = []\n",
    "dist_target_hists_cmaes = []\n",
    "cmaes_param = CMAParam(init_mean, init_cov, init_step_size ) \n",
    "for _ in tqdm(range(trial_num)):\n",
    "    _, (min_func_hist, eval_num_hist, dist_target_hist, _) = cmaes.run_cmaes(rastrigin, cmaes_param, config)\n",
    "    eval_hists_cmaes.append(eval_num_hist)\n",
    "    min_func_hists_cmaes.append(min_func_hist)\n",
    "    dist_target_hists_cmaes.append(dist_target_hist)"
   ]
  },
  {
   "cell_type": "code",
   "execution_count": null,
   "id": "55fe3878",
   "metadata": {},
   "outputs": [],
   "source": [
    "import pickle\n",
    "with open(f\"./outputs/cmaes_{executed_time}.pickle\", mode='wb') as f:\n",
    "    pickle.dump({\"eval_hists\": eval_hists_cmaes, \"min_fun_hists\": min_func_hists_cmaes, \n",
    "                 \"dist_target_hists\": dist_target_hists_cmaes, \"config\": config}, f)"
   ]
  },
  {
   "cell_type": "code",
   "execution_count": null,
   "id": "5ac2e58e",
   "metadata": {},
   "outputs": [],
   "source": []
  },
  {
   "cell_type": "code",
   "execution_count": null,
   "id": "154de6d7",
   "metadata": {},
   "outputs": [],
   "source": []
  }
 ],
 "metadata": {
  "kernelspec": {
   "display_name": "Python 3 (ipykernel)",
   "language": "python",
   "name": "python3"
  },
  "language_info": {
   "codemirror_mode": {
    "name": "ipython",
    "version": 3
   },
   "file_extension": ".py",
   "mimetype": "text/x-python",
   "name": "python",
   "nbconvert_exporter": "python",
   "pygments_lexer": "ipython3",
   "version": "3.8.10"
  }
 },
 "nbformat": 4,
 "nbformat_minor": 5
}
